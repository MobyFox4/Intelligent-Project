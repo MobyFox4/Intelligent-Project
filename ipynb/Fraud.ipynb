{
  "cells": [
    {
      "cell_type": "code",
      "execution_count": 1,
      "metadata": {
        "id": "cEED6BZEcG5B"
      },
      "outputs": [],
      "source": [
        "import pandas as pd\n",
        "import numpy as np\n",
        "import matplotlib.pyplot as plt\n",
        "import seaborn as sns\n",
        "from sklearn.model_selection import train_test_split\n",
        "from sklearn.preprocessing import LabelEncoder, StandardScaler\n",
        "import tensorflow as tf\n",
        "from tensorflow import keras\n",
        "from tensorflow.keras import layers"
      ]
    },
    {
      "cell_type": "code",
      "execution_count": 6,
      "metadata": {
        "id": "PwjHbDTbdAfQ"
      },
      "outputs": [],
      "source": [
        "# โหลดข้อมูลจากไฟล์ CSV\n",
        "df = pd.read_csv(\"../Dataset/Fraud.csv\")"
      ]
    },
    {
      "cell_type": "code",
      "execution_count": 7,
      "metadata": {
        "id": "Wtz4ArrPdCWj"
      },
      "outputs": [],
      "source": [
        "# ลบคอลัมน์ที่ไม่จำเป็น\n",
        "df = df.drop([\"nameOrig\", \"nameDest\", \"isFlaggedFraud\"], axis=1)"
      ]
    },
    {
      "cell_type": "code",
      "execution_count": 8,
      "metadata": {
        "id": "E85gx_w4lMW2"
      },
      "outputs": [],
      "source": [
        "# แปลงข้อมูลประเภท 'type' ให้เป็นตัวเลข\n",
        "encoder = LabelEncoder()\n",
        "df['type'] = encoder.fit_transform(df['type'])"
      ]
    },
    {
      "cell_type": "code",
      "execution_count": 9,
      "metadata": {
        "id": "J5z-ZPSYdFSg"
      },
      "outputs": [],
      "source": [
        "# การลบ outliers โดยใช้ IQR\n",
        "numerical_cols = ['amount', 'oldbalanceOrg', 'newbalanceOrig', 'oldbalanceDest', 'newbalanceDest']\n",
        "for col in numerical_cols:\n",
        "    Q1 = df[col].quantile(0.25)  # คำนวณ Q1\n",
        "    Q3 = df[col].quantile(0.75)  # คำนวณ Q3\n",
        "    IQR = Q3 - Q1  # คำนวณ IQR\n",
        "    lower_bound = Q1 - 1.5 * IQR  # หาขอบล่าง\n",
        "    upper_bound = Q3 + 1.5 * IQR  # หาขอบบน\n",
        "    df = df[(df[col] >= lower_bound) & (df[col] <= upper_bound)]  # กรองข้อมูลที่อยู่ในช่วงที่กำหนด"
      ]
    },
    {
      "cell_type": "code",
      "execution_count": 10,
      "metadata": {
        "id": "hNQEa93adGz9"
      },
      "outputs": [],
      "source": [
        "# แยก features และ target\n",
        "X = df.drop(\"isFraud\", axis=1)  # features (ลบคอลัมน์ 'isFraud' ออก)\n",
        "y = df[\"isFraud\"]  # target (คอลัมน์ 'isFraud' คือป้ายกำกับที่บ่งบอกว่าข้อมูลนั้นเป็นการทุจริตหรือไม่)"
      ]
    },
    {
      "cell_type": "code",
      "execution_count": 11,
      "metadata": {
        "id": "zrTyEgfLdInf"
      },
      "outputs": [],
      "source": [
        "# Normalization ของข้อมูล\n",
        "scaler = StandardScaler()\n",
        "X_scaled = scaler.fit_transform(X)  # ปรับขนาดข้อมูลให้มีค่าเฉลี่ยเป็น 0 และส่วนเบี่ยงเบนมาตรฐานเป็น 1"
      ]
    },
    {
      "cell_type": "code",
      "execution_count": 12,
      "metadata": {
        "id": "S01XIX1idLW7"
      },
      "outputs": [],
      "source": [
        "# แบ่งข้อมูลเป็นชุดฝึกอบรมและชุดทดสอบ\n",
        "X_train, X_test, y_train, y_test = train_test_split(X_scaled, y, test_size=0.2, random_state=42)"
      ]
    },
    {
      "cell_type": "code",
      "execution_count": 13,
      "metadata": {
        "colab": {
          "base_uri": "https://localhost:8080/"
        },
        "id": "vJJq1iuedMMd",
        "outputId": "406c8eac-7a9f-4fa3-b8c9-7ad1e5e1142b"
      },
      "outputs": [
        {
          "name": "stderr",
          "output_type": "stream",
          "text": [
            "C:\\Users\\mostm\\AppData\\Roaming\\Python\\Python312\\site-packages\\keras\\src\\layers\\core\\dense.py:87: UserWarning: Do not pass an `input_shape`/`input_dim` argument to a layer. When using Sequential models, prefer using an `Input(shape)` object as the first layer in the model instead.\n",
            "  super().__init__(activity_regularizer=activity_regularizer, **kwargs)\n"
          ]
        }
      ],
      "source": [
        "# สร้างโมเดลNeural Network\n",
        "model = keras.Sequential([\n",
        "    layers.Dense(16, activation='relu', input_shape=(X_train.shape[1],)),  # ชั้นที่ 1 มี 16 นิวรอน ใช้ฟังก์ชัน activation แบบ relu\n",
        "    layers.Dense(8, activation='relu'),  # ชั้นที่ 2 มี 8 นิวรอน ใช้ฟังก์ชัน activation แบบ relu\n",
        "    layers.Dense(1, activation='sigmoid')  # ชั้นสุดท้าย 1 นิวรอน ใช้ฟังก์ชัน activation แบบ sigmoid\n",
        "])"
      ]
    },
    {
      "cell_type": "code",
      "execution_count": 14,
      "metadata": {
        "id": "UxignarRdNYq"
      },
      "outputs": [],
      "source": [
        "# คอมไพล์โมเดล\n",
        "model.compile(optimizer='adam', loss='binary_crossentropy', metrics=['accuracy'])"
      ]
    },
    {
      "cell_type": "code",
      "execution_count": 15,
      "metadata": {
        "colab": {
          "base_uri": "https://localhost:8080/"
        },
        "id": "IUQI1O32dOhb",
        "outputId": "b7673c6e-db6e-453d-c622-0d8b0cfbd66b"
      },
      "outputs": [
        {
          "name": "stdout",
          "output_type": "stream",
          "text": [
            "Epoch 1/10\n",
            "\u001b[1m81286/81286\u001b[0m \u001b[32m━━━━━━━━━━━━━━━━━━━━\u001b[0m\u001b[37m\u001b[0m \u001b[1m147s\u001b[0m 2ms/step - accuracy: 0.9984 - loss: 0.0091 - val_accuracy: 0.9993 - val_loss: 0.0024\n",
            "Epoch 2/10\n",
            "\u001b[1m81286/81286\u001b[0m \u001b[32m━━━━━━━━━━━━━━━━━━━━\u001b[0m\u001b[37m\u001b[0m \u001b[1m150s\u001b[0m 2ms/step - accuracy: 0.9995 - loss: 0.0019 - val_accuracy: 0.9994 - val_loss: 0.0022\n",
            "Epoch 3/10\n",
            "\u001b[1m81286/81286\u001b[0m \u001b[32m━━━━━━━━━━━━━━━━━━━━\u001b[0m\u001b[37m\u001b[0m \u001b[1m146s\u001b[0m 2ms/step - accuracy: 0.9995 - loss: 0.0018 - val_accuracy: 0.9995 - val_loss: 0.0018\n",
            "Epoch 4/10\n",
            "\u001b[1m81286/81286\u001b[0m \u001b[32m━━━━━━━━━━━━━━━━━━━━\u001b[0m\u001b[37m\u001b[0m \u001b[1m128s\u001b[0m 2ms/step - accuracy: 0.9995 - loss: 0.0017 - val_accuracy: 0.9995 - val_loss: 0.0020\n",
            "Epoch 5/10\n",
            "\u001b[1m81286/81286\u001b[0m \u001b[32m━━━━━━━━━━━━━━━━━━━━\u001b[0m\u001b[37m\u001b[0m \u001b[1m128s\u001b[0m 2ms/step - accuracy: 0.9995 - loss: 0.0017 - val_accuracy: 0.9995 - val_loss: 0.0017\n",
            "Epoch 6/10\n",
            "\u001b[1m81286/81286\u001b[0m \u001b[32m━━━━━━━━━━━━━━━━━━━━\u001b[0m\u001b[37m\u001b[0m \u001b[1m127s\u001b[0m 2ms/step - accuracy: 0.9995 - loss: 0.0016 - val_accuracy: 0.9995 - val_loss: 0.0016\n",
            "Epoch 7/10\n",
            "\u001b[1m81286/81286\u001b[0m \u001b[32m━━━━━━━━━━━━━━━━━━━━\u001b[0m\u001b[37m\u001b[0m \u001b[1m127s\u001b[0m 2ms/step - accuracy: 0.9995 - loss: 0.0017 - val_accuracy: 0.9995 - val_loss: 0.0014\n",
            "Epoch 8/10\n",
            "\u001b[1m81286/81286\u001b[0m \u001b[32m━━━━━━━━━━━━━━━━━━━━\u001b[0m\u001b[37m\u001b[0m \u001b[1m127s\u001b[0m 2ms/step - accuracy: 0.9995 - loss: 0.0016 - val_accuracy: 0.9994 - val_loss: 0.0022\n",
            "Epoch 9/10\n",
            "\u001b[1m81286/81286\u001b[0m \u001b[32m━━━━━━━━━━━━━━━━━━━━\u001b[0m\u001b[37m\u001b[0m \u001b[1m127s\u001b[0m 2ms/step - accuracy: 0.9996 - loss: 0.0015 - val_accuracy: 0.9995 - val_loss: 0.0016\n",
            "Epoch 10/10\n",
            "\u001b[1m81286/81286\u001b[0m \u001b[32m━━━━━━━━━━━━━━━━━━━━\u001b[0m\u001b[37m\u001b[0m \u001b[1m127s\u001b[0m 2ms/step - accuracy: 0.9996 - loss: 0.0015 - val_accuracy: 0.9995 - val_loss: 0.0015\n"
          ]
        }
      ],
      "source": [
        "# ฝึกโมเดล\n",
        "history = model.fit(X_train, y_train, epochs=10, batch_size=32, validation_data=(X_test, y_test))\n"
      ]
    },
    {
      "cell_type": "code",
      "execution_count": 16,
      "metadata": {
        "id": "jMrBXMTQdPlg"
      },
      "outputs": [
        {
          "name": "stdout",
          "output_type": "stream",
          "text": [
            "\u001b[1m20322/20322\u001b[0m \u001b[32m━━━━━━━━━━━━━━━━━━━━\u001b[0m\u001b[37m\u001b[0m \u001b[1m23s\u001b[0m 1ms/step - accuracy: 0.9995 - loss: 0.0016\n",
            "Test Accuracy: 0.9995\n"
          ]
        }
      ],
      "source": [
        "# ประเมินโมเดล\n",
        "loss, accuracy = model.evaluate(X_test, y_test)\n",
        "print(f\"Test Accuracy: {accuracy:.4f}\")  # แสดงผลความแม่นยำจากชุดทดสอบ"
      ]
    },
    {
      "cell_type": "code",
      "execution_count": 18,
      "metadata": {},
      "outputs": [],
      "source": [
        "# Save\n",
        "model.save(\"../Model/fraud_detection_model.keras\")  "
      ]
    }
  ],
  "metadata": {
    "colab": {
      "provenance": []
    },
    "kernelspec": {
      "display_name": "Python 3",
      "name": "python3"
    },
    "language_info": {
      "codemirror_mode": {
        "name": "ipython",
        "version": 3
      },
      "file_extension": ".py",
      "mimetype": "text/x-python",
      "name": "python",
      "nbconvert_exporter": "python",
      "pygments_lexer": "ipython3",
      "version": "3.12.0"
    }
  },
  "nbformat": 4,
  "nbformat_minor": 0
}
